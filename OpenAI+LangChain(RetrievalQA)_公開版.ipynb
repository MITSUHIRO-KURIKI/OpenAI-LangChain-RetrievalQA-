{
  "cells": [
    {
      "cell_type": "markdown",
      "source": [
        "[![Open In Colab](https://colab.research.google.com/assets/colab-badge.svg)](https://colab.research.google.com/drive/1p1nL8leOeuug2la1nlEeYcCxUG0dApXh?usp=sharing)"
      ],
      "metadata": {
        "id": "Z-_ys1-tAlqY"
      }
    },
    {
      "cell_type": "markdown",
      "source": [
        "[説明資料](https://drive.google.com/file/d/1slSX1N3bSKhEhOg-z3dJEMXTYv5fNEFp/view?usp=drive_link)  \n",
        "※ RetrievalQA -> p.104～"
      ],
      "metadata": {
        "id": "XwQh_-N_jrRq"
      }
    },
    {
      "cell_type": "markdown",
      "source": [
        "### **Config**\n",
        "\n",
        "---\n",
        "\n"
      ],
      "metadata": {
        "id": "Sk2vN7vLKqm0"
      }
    },
    {
      "cell_type": "code",
      "source": [
        "import torch\n",
        "class Config:\n",
        "  PROJECT_FOLD_NAME = 'CDLE_LLM'\n",
        "\n",
        "  # LLM\n",
        "  ## OpenAI\n",
        "  GPT_MAX_TOKENS = 256\n",
        "  GPT_MODEL_NAME = 'gpt-3.5-turbo'\n",
        "\n",
        "  # その他\n",
        "  is_default_verbose    = True\n",
        "  device                = f'cuda:{torch.cuda.current_device()}' if torch.cuda.is_available() else 'cpu'\n",
        "\n",
        "\n",
        "class QAConfig:\n",
        "  # RetrievalQA 用\n",
        "  ## EMBEDDING\n",
        "  ## https://huggingface.co/models?pipeline_tag=sentence-similarity&language=ja&sort=likes\n",
        "  EMBED_MODEL_NAME_OR_PATH = 'intfloat/multilingual-e5-large'\n",
        "\n",
        "  ## チャンクサイズの設定\n",
        "  splitter_chunk_size    = 514 # 指定されるチャンクサイズ\n",
        "  splitter_chunk_overlap = 20  # 指定されるチャンクサイズのバッファ\n",
        "\n",
        "  ## Index の保存\n",
        "  IS_SAVE_INDEX = True\n",
        "\n",
        "  ## QA回答の設定\n",
        "  chain_type = 'stuff' # 回答の生成方法\n",
        "\n",
        "class TOKEN:\n",
        "  OPENAI_API_KEY = '*** YOUR OPEN AI KEY ***'\n",
        "  # MEMO\n",
        "  # openai:        https://platform.openai.com/account/api-keys"
      ],
      "metadata": {
        "id": "6aQ1H0jQY0gI"
      },
      "execution_count": null,
      "outputs": []
    },
    {
      "cell_type": "code",
      "source": [
        "cfg    = Config()\n",
        "qa_cfg = QAConfig()\n",
        "auth   = TOKEN()"
      ],
      "metadata": {
        "id": "3b0gABwdLNC8"
      },
      "execution_count": null,
      "outputs": []
    },
    {
      "cell_type": "code",
      "source": [],
      "metadata": {
        "id": "sIBbZYypafb3"
      },
      "execution_count": null,
      "outputs": []
    },
    {
      "cell_type": "markdown",
      "source": [
        "### **Install Library**\n",
        "\n",
        "---\n",
        "\n"
      ],
      "metadata": {
        "id": "PDPUoRZrKvOV"
      }
    },
    {
      "cell_type": "markdown",
      "source": [
        "> #### pip"
      ],
      "metadata": {
        "id": "eupUCdtWKzgJ"
      }
    },
    {
      "cell_type": "code",
      "execution_count": null,
      "metadata": {
        "id": "IVZ9ajysvcMM"
      },
      "outputs": [],
      "source": [
        "from IPython.display import clear_output\n",
        "# langchain\n",
        "!pip install langchain==0.0.271\n",
        "\n",
        "# HuggingFace transformers\n",
        "!pip install transformers==4.31.0 xformers accelerate==0.22.0\n",
        "\n",
        "# OpenAI\n",
        "!pip install openai\n",
        "\n",
        "## RetrievalQA 用\n",
        "!pip install sentence_transformers\n",
        "!pip install faiss-gpu\n",
        "### USE PyPDFLoader\n",
        "!pip install pypdf\n",
        "\n",
        "clear_output()"
      ]
    },
    {
      "cell_type": "code",
      "source": [],
      "metadata": {
        "id": "22CF6c0VLI5q"
      },
      "execution_count": null,
      "outputs": []
    },
    {
      "cell_type": "markdown",
      "source": [
        "> #### import Library"
      ],
      "metadata": {
        "id": "jx3Ia0r_K14h"
      }
    },
    {
      "cell_type": "code",
      "execution_count": null,
      "metadata": {
        "id": "uBGPvIVYvieO"
      },
      "outputs": [],
      "source": [
        "import os\n",
        "import sys\n",
        "import glob\n",
        "import random\n",
        "\n",
        "import numpy as np\n",
        "import pandas as pd\n",
        "pd.set_option('display.max_rows',     50)\n",
        "pd.set_option('display.max_columns',  100)\n",
        "pd.set_option('display.max_colwidth', 100)\n",
        "from typing import Dict, List, Union, Optional, Type\n",
        "\n",
        "import re\n",
        "import time\n",
        "import pytz\n",
        "from datetime import datetime\n",
        "\n",
        "from tqdm.notebook import tqdm\n",
        "# TQDM Progress Bar With Pandas Apply Function\n",
        "tqdm.pandas()\n",
        "from contextlib import contextmanager\n",
        "from IPython.display import clear_output\n",
        "from pprint import pprint\n",
        "\n",
        "import warnings\n",
        "warnings.filterwarnings('ignore')\n",
        "\n",
        "import gc\n",
        "gc.collect();"
      ]
    },
    {
      "cell_type": "code",
      "execution_count": null,
      "metadata": {
        "id": "0g1zhiq-viY5",
        "colab": {
          "base_uri": "https://localhost:8080/"
        },
        "outputId": "6eb3b183-99eb-4fb6-a9af-6b71a461bdb7"
      },
      "outputs": [
        {
          "output_type": "stream",
          "name": "stdout",
          "text": [
            "Python Version: 3.10.12 (main, Jun 11 2023, 05:26:28) [GCC 11.4.0]\n",
            "langchain Version: 0.0.271\n",
            "transformers Version: 4.31.0\n",
            "torch Version: 2.1.0+cu118\n"
          ]
        }
      ],
      "source": [
        "# langchain\n",
        "## 共通\n",
        "import langchain\n",
        "from langchain.chains import LLMChain\n",
        "from langchain.llms import OpenAI\n",
        "from langchain.prompts import PromptTemplate\n",
        "\n",
        "## RetrievalQA 用\n",
        "from langchain.chains import RetrievalQA\n",
        "from langchain.document_loaders import TextLoader, PyPDFLoader\n",
        "from langchain.embeddings import HuggingFaceEmbeddings\n",
        "from langchain.text_splitter import RecursiveCharacterTextSplitter\n",
        "from langchain.vectorstores.faiss import FAISS\n",
        "## Chatのストーリーミング出力用(OpenAI)\n",
        "from langchain.callbacks.manager import CallbackManager\n",
        "from langchain.callbacks.streaming_stdout import StreamingStdOutCallbackHandler\n",
        "\n",
        "# HuggingFace transformers\n",
        "import transformers\n",
        "\n",
        "# torch\n",
        "import torch\n",
        "\n",
        "# Colabo Bug?\n",
        "import locale\n",
        "locale.getpreferredencoding = lambda: 'UTF-8'\n",
        "\n",
        "print(f'Python Version: {sys.version}')\n",
        "print(f'langchain Version: {langchain.__version__}')\n",
        "print(f'transformers Version: {transformers.__version__}')\n",
        "print(f'torch Version: {torch.__version__}')\n",
        "\n",
        "# Debugging chains\n",
        "langchain.debug = cfg.is_default_verbose"
      ]
    },
    {
      "cell_type": "code",
      "source": [],
      "metadata": {
        "id": "emRlYLjCLHvU"
      },
      "execution_count": null,
      "outputs": []
    },
    {
      "cell_type": "markdown",
      "source": [
        "> #### API Keys set"
      ],
      "metadata": {
        "id": "CFlEn_LRK6Wv"
      }
    },
    {
      "cell_type": "code",
      "source": [
        "os.environ['OPENAI_API_KEY'] = auth.OPENAI_API_KEY if auth.OPENAI_API_KEY else 'none'"
      ],
      "metadata": {
        "id": "DRUlh9c7Zy6D"
      },
      "execution_count": null,
      "outputs": []
    },
    {
      "cell_type": "code",
      "execution_count": null,
      "metadata": {
        "id": "7nf_SApjUL5j"
      },
      "outputs": [],
      "source": []
    },
    {
      "cell_type": "markdown",
      "source": [
        "### **ディレクトリの作成**\n",
        "\n",
        "---\n"
      ],
      "metadata": {
        "id": "u3u8GyeEBHO2"
      }
    },
    {
      "cell_type": "code",
      "source": [
        "def clear_cache_everything():\n",
        "    gc.collect();\n",
        "    try: torch.cuda.empty_cache();\n",
        "    except: pass;"
      ],
      "metadata": {
        "id": "je8ED1vM6G1-"
      },
      "execution_count": null,
      "outputs": []
    },
    {
      "cell_type": "code",
      "source": [
        "if not os.path.exists(f'{cfg.PROJECT_FOLD_NAME}'):\n",
        "  !mkdir {cfg.PROJECT_FOLD_NAME}\n",
        "\n",
        "## RetrievalQA 用\n",
        "if not os.path.exists(f'{cfg.PROJECT_FOLD_NAME}/qa_documents'):\n",
        "  !mkdir {cfg.PROJECT_FOLD_NAME}/qa_documents\n",
        "if not os.path.exists(f'{cfg.PROJECT_FOLD_NAME}/qa_documents/txt'):\n",
        "  !mkdir {cfg.PROJECT_FOLD_NAME}/qa_documents/txt\n",
        "if not os.path.exists(f'{cfg.PROJECT_FOLD_NAME}/qa_documents/pdf'):\n",
        "  !mkdir {cfg.PROJECT_FOLD_NAME}/qa_documents/pdf\n",
        "if not os.path.exists(f'{cfg.PROJECT_FOLD_NAME}/qa_index'):\n",
        "  !mkdir {cfg.PROJECT_FOLD_NAME}/qa_index"
      ],
      "metadata": {
        "id": "pYhoDSj2BGFv"
      },
      "execution_count": null,
      "outputs": []
    },
    {
      "cell_type": "code",
      "source": [],
      "metadata": {
        "id": "6LtcVEz5LWV8"
      },
      "execution_count": null,
      "outputs": []
    },
    {
      "cell_type": "markdown",
      "source": [
        "### **RetrievalQA**\n",
        "\n",
        "---\n",
        "\n"
      ],
      "metadata": {
        "id": "EIkCELVtNHoG"
      }
    },
    {
      "cell_type": "markdown",
      "source": [
        "https://python.langchain.com/docs/use_cases/question_answering/"
      ],
      "metadata": {
        "id": "zEDhDG_D1PJX"
      }
    },
    {
      "cell_type": "markdown",
      "source": [
        "> #### **文章のインデックス化(FAISS)**"
      ],
      "metadata": {
        "id": "H4kFIzOCNVbo"
      }
    },
    {
      "cell_type": "markdown",
      "source": [
        "> > ##### func CreateIndex"
      ],
      "metadata": {
        "id": "fb5pk-XwNPz4"
      }
    },
    {
      "cell_type": "code",
      "execution_count": null,
      "metadata": {
        "id": "28QCcY8vqtbw"
      },
      "outputs": [],
      "source": [
        "def files2documents(cfg, qa_cfg):\n",
        "  clear_cache_everything();\n",
        "\n",
        "  # txtとpdfを読み取り\n",
        "  load_file_type   = ['txt', 'pdf']\n",
        "  return_documents = []\n",
        "  files_list       = []\n",
        "\n",
        "  # チャンクの分割の設定\n",
        "  text_splitter = RecursiveCharacterTextSplitter(\n",
        "      chunk_size    = qa_cfg.splitter_chunk_size,\n",
        "      chunk_overlap = qa_cfg.splitter_chunk_overlap,)\n",
        "\n",
        "  for f_type in load_file_type:\n",
        "    tmp_l      = [f'{cfg.PROJECT_FOLD_NAME}/qa_documents/{f_type}/{f}' for f in os.listdir(f'{cfg.PROJECT_FOLD_NAME}/qa_documents/{f_type}')]\n",
        "    files_list += tmp_l\n",
        "\n",
        "  if not len(files_list) == 0:\n",
        "    for f in files_list:\n",
        "      if f.endswith('.txt'):   raw_documents = TextLoader(f, encoding='utf8').load()\n",
        "      elif f.endswith('.pdf'): raw_documents = PyPDFLoader(f).load()\n",
        "      else: print(f'WARNING: file format error: {f}'); continue;\n",
        "\n",
        "      # チャンクの分割\n",
        "      documents        = text_splitter.split_documents(raw_documents)\n",
        "      return_documents += documents\n",
        "\n",
        "    clear_cache_everything();\n",
        "    return return_documents\n",
        "\n",
        "  else: print('file not found...?'); return None;"
      ]
    },
    {
      "cell_type": "code",
      "source": [
        "# https://python.langchain.com/docs/modules/data_connection/vectorstores/\n",
        "# https://python.langchain.com/docs/integrations/vectorstores/faiss\n",
        "def CreateIndex(cfg, qa_cfg, documents):\n",
        "  clear_cache_everything();\n",
        "\n",
        "  huggingface_embeddings = HuggingFaceEmbeddings(model_name = qa_cfg.EMBED_MODEL_NAME_OR_PATH)\n",
        "  clear_output();\n",
        "\n",
        "  index = FAISS.from_documents(\n",
        "    documents = documents,\n",
        "    embedding = huggingface_embeddings,)\n",
        "\n",
        "  # 作成した index の保存\n",
        "  if qa_cfg.IS_SAVE_INDEX:\n",
        "    index.save_local(f'{cfg.PROJECT_FOLD_NAME}/qa_index')\n",
        "\n",
        "  clear_cache_everything();\n",
        "  return index\n",
        "\n",
        "def LoadIndex(cfg, qa_cfg):\n",
        "  clear_cache_everything();\n",
        "\n",
        "  huggingface_embeddings = HuggingFaceEmbeddings(model_name = qa_cfg.EMBED_MODEL_NAME_OR_PATH)\n",
        "  clear_output();\n",
        "\n",
        "  index = FAISS.load_local(f'{cfg.PROJECT_FOLD_NAME}/qa_index', huggingface_embeddings)\n",
        "\n",
        "  clear_cache_everything();\n",
        "  return index"
      ],
      "metadata": {
        "id": "8GjhZNh80qO9"
      },
      "execution_count": null,
      "outputs": []
    },
    {
      "cell_type": "code",
      "source": [],
      "metadata": {
        "id": "SWQ5JVtPNdHK"
      },
      "execution_count": null,
      "outputs": []
    },
    {
      "cell_type": "markdown",
      "source": [
        "> > ##### インデックス化の実行"
      ],
      "metadata": {
        "id": "LTvDLYHENdWV"
      }
    },
    {
      "cell_type": "code",
      "execution_count": null,
      "metadata": {
        "id": "XsP2t0V1DGI4"
      },
      "outputs": [],
      "source": [
        "# チャンクの分割\n",
        "documents = files2documents(cfg, qa_cfg)\n",
        "# インデックスの新規作成\n",
        "index     = CreateIndex(cfg, qa_cfg, documents)\n",
        "# インデックスの読み込み\n",
        "# index     = LoadIndex(cfg, qa_cfg)"
      ]
    },
    {
      "cell_type": "code",
      "source": [],
      "metadata": {
        "id": "DZkeBhQh5eV5"
      },
      "execution_count": null,
      "outputs": []
    },
    {
      "cell_type": "code",
      "execution_count": null,
      "metadata": {
        "id": "N4e5QJ2Gzafv",
        "colab": {
          "base_uri": "https://localhost:8080/"
        },
        "outputId": "042462da-0c02-45b0-ba10-ee47a0f6a820"
      },
      "outputs": [
        {
          "output_type": "stream",
          "name": "stdout",
          "text": [
            "98\n",
            "名探偵コナン\\n\\nテレビアニメを 321 {'source': 'CDLE_LLM/qa_documents/txt/conan.txt'}\n",
            "巻数\\n既刊103巻\\n\\n世界観\\n 352 {'source': 'CDLE_LLM/qa_documents/txt/conan.txt'}\n",
            "また、1994年の連載開始から 260 {'source': 'CDLE_LLM/qa_documents/txt/conan.txt'}\n",
            "作品構成\\n主に1エピソードにつ 303 {'source': 'CDLE_LLM/qa_documents/txt/conan.txt'}\n",
            "事件を推理し解決に導くのはコナ 386 {'source': 'CDLE_LLM/qa_documents/txt/conan.txt'}\n"
          ]
        }
      ],
      "source": [
        "# チャンクの確認\n",
        "print(len(documents))\n",
        "for document in documents[:5]:\n",
        "    print(document.page_content[:15].replace('\\n','\\\\n'),len(document.page_content), document.metadata)"
      ]
    },
    {
      "cell_type": "code",
      "source": [
        "# indexでsimilarity_search確認\n",
        "res = index.similarity_search('ギターヒーロー', k=3)\n",
        "contents = [f'doc {i+1}:\\n {res[i].page_content}' for i in range(len(res))]\n",
        "join_contents = '\\n\\n'.join(contents)\n",
        "print(join_contents)"
      ],
      "metadata": {
        "id": "LMVEZRzMCLtw",
        "colab": {
          "base_uri": "https://localhost:8080/"
        },
        "outputId": "45c02edc-a198-474a-b678-575d31af39c4"
      },
      "execution_count": null,
      "outputs": [
        {
          "output_type": "stream",
          "name": "stdout",
          "text": [
            "doc 1:\n",
            " ギターヒーロー\n",
            "後藤ひとりが動画配信の際に用いるハンドルネーム。ひとりは「ギターヒーロー」の名で動画配信して、スゴ腕の女子高生ギタリストとしてカリスマ的な人気を集めている。動画配信は素顔を映さない形で行っており、ひとりがギターヒーローであることはほとんどの人たちが知らない。チャンネル登録者もかなり多いらしく、大槻ヨヨコによれば、ドームを2回満員にするほどにチャンネル登録者がいるという。ただ一方で、ひとりの承認欲求が肥大化した原因でもあり、ギターヒーローとしての活動コメントは、「彼氏がいる」「友達とカラオケ」など捏造がひどい。実はアカウントが家族で共有されているため、ひとりの父にはそれらの虚言癖は最初からバレており、のちにその事実に気づく。また佐藤愛子にひとりがギターヒーローであることを暴露されたことをきっかけに周囲の人間にもそれが知れ渡り、以降は激しく後悔してコメントを自粛している。\n",
            "\n",
            "doc 2:\n",
            " 実力派サイケデリックロックバンド「SICK\n",
            "\n",
            "doc 3:\n",
            " 文化祭ライブ\n"
          ]
        }
      ]
    },
    {
      "cell_type": "code",
      "execution_count": null,
      "metadata": {
        "id": "Y0Lgo3QxqtZO"
      },
      "outputs": [],
      "source": []
    },
    {
      "cell_type": "markdown",
      "source": [
        "> #### **RetrievalQA**"
      ],
      "metadata": {
        "id": "LtJ2_8gONm2C"
      }
    },
    {
      "cell_type": "markdown",
      "source": [
        "> > ##### Define Prompt"
      ],
      "metadata": {
        "id": "56cnAOE3oAti"
      }
    },
    {
      "cell_type": "markdown",
      "source": [
        "**RetrievalQA用**"
      ],
      "metadata": {
        "id": "Hl6bojrgzj17"
      }
    },
    {
      "cell_type": "code",
      "source": [
        "qa_prompt_template = \"\"\"Please answer in Japanese. Please make your answer as concise as possible. Answer the following questions as best you can. Answer the Question by referring only to the Context below. If the Context does not contain information that will help answer the question, please say \"I don't know\". If there are multiple possible answers, please list them.\n",
        "\n",
        "Context:.\n",
        "{context}\n",
        "\n",
        "Begin!\n",
        "\n",
        "Question:{question}\n",
        "Answer:\"\"\""
      ],
      "metadata": {
        "id": "uX_9Z51foYk0"
      },
      "execution_count": null,
      "outputs": []
    },
    {
      "cell_type": "code",
      "source": [
        "DEFINE_PROMPT = dict()\n",
        "\n",
        "# RetrievalQA\n",
        "DEFINE_PROMPT.update({\n",
        "    'qa_prompt_template': qa_prompt_template,\n",
        "})"
      ],
      "metadata": {
        "id": "V-YZyNjloXXh"
      },
      "execution_count": null,
      "outputs": []
    },
    {
      "cell_type": "markdown",
      "source": [
        "> > ##### func CreateRetrievalQA"
      ],
      "metadata": {
        "id": "RSwGvW89NqDI"
      }
    },
    {
      "cell_type": "code",
      "execution_count": null,
      "metadata": {
        "id": "dbBugIJwzaUI"
      },
      "outputs": [],
      "source": [
        "def CreateRetrievalQA(\n",
        "          cfg, qa_cfg, index_, DEFINE_PROMPT, *,\n",
        "          ## Agent LLM\n",
        "          temperature:float            = 0.6,\n",
        "          top_p:float                  = 0.95,\n",
        "          # Streamer\n",
        "          IS_STREMING:bool             = True,\n",
        "          # RetrievalQA\n",
        "          retriever_topk:int           = 5,\n",
        "          return_source_documents:bool = True,\n",
        "          verbose:bool                 = False,):\n",
        "  clear_cache_everything();\n",
        "\n",
        "  # Create LLM\n",
        "  llm = OpenAI(\n",
        "          model_name           = cfg.GPT_MODEL_NAME,\n",
        "          streaming            = True if IS_STREMING else False,\n",
        "          max_tokens           = cfg.GPT_MAX_TOKENS,\n",
        "          temperature          = temperature,\n",
        "          top_p                = top_p,\n",
        "          callback_manager     = CallbackManager([StreamingStdOutCallbackHandler()]),)\n",
        "\n",
        "  # Prompt\n",
        "  QA_PROMPT_TEMPLATE = PromptTemplate(\n",
        "          input_variables = ['context', 'question'],\n",
        "          template        = DEFINE_PROMPT['qa_prompt_template'],)\n",
        "\n",
        "  # Create Chain\n",
        "  qa_chain = RetrievalQA.from_chain_type(\n",
        "          llm                     = llm,\n",
        "          chain_type              = qa_cfg.chain_type,\n",
        "          retriever               = index_.as_retriever(k = retriever_topk),\n",
        "          chain_type_kwargs       = {'prompt': QA_PROMPT_TEMPLATE},\n",
        "          return_source_documents = return_source_documents,\n",
        "          verbose                 = verbose,)\n",
        "  # MEMO:\n",
        "  # retriever_topk:          呼び出されるチャンクの量\n",
        "  # return_source_documents: 参照したリソースの表示\n",
        "  # chain_type:\n",
        "  #   stuff:      すべての chunk を含む prompt を実行する。一度に全ての chunk を詰め込むため、大きなデータは使えない。\n",
        "  #   map_reduce: retriever の chunk ごとに prompt を実行して、最終的にそれを結合。情報の結合時に情報が失われる。\n",
        "  #   refine:     最初の chunk に prompt を実行した回答に次の chunk を含めて再度 prompt の実行を繰り返す。\n",
        "  #   map_rerank: retriever の chunk ごとに prompt を実行し確からしさのスコアリングを行う。最高スコアを回答する。chunk 間の情報は失われる。\n",
        "  #   https://python.langchain.com/docs/modules/chains/document/\n",
        "\n",
        "  clear_cache_everything();\n",
        "  return qa_chain, llm"
      ]
    },
    {
      "cell_type": "code",
      "source": [],
      "metadata": {
        "id": "UopxIppHNs6m"
      },
      "execution_count": null,
      "outputs": []
    },
    {
      "cell_type": "markdown",
      "source": [
        "> > ##### RetrievalQAの作成と実行"
      ],
      "metadata": {
        "id": "6yFL1JEjNtK4"
      }
    },
    {
      "cell_type": "markdown",
      "source": [
        "**Helper**"
      ],
      "metadata": {
        "id": "WlB_-PNa2po3"
      }
    },
    {
      "cell_type": "code",
      "source": [
        "def pick_metadata_source(result:dict, sort_reverse:bool = False) -> list:\n",
        "  source_list=[]\n",
        "  for i in range(len(result['source_documents'])):\n",
        "    source_list.append(result['source_documents'][i].metadata['source'])\n",
        "  return sorted(list(set(source_list)), reverse=sort_reverse)"
      ],
      "metadata": {
        "id": "DKqofRzw2pNB"
      },
      "execution_count": null,
      "outputs": []
    },
    {
      "cell_type": "markdown",
      "source": [
        "**RetrievalQAの作成**"
      ],
      "metadata": {
        "id": "ix0TDvxLOvze"
      }
    },
    {
      "cell_type": "code",
      "source": [
        "qa_chain, original_llm = CreateRetrievalQA(cfg, qa_cfg, index, DEFINE_PROMPT)"
      ],
      "metadata": {
        "id": "kFw1AlcUN8hF"
      },
      "execution_count": null,
      "outputs": []
    },
    {
      "cell_type": "markdown",
      "source": [
        "**実行**"
      ],
      "metadata": {
        "id": "75frW-pfOyCr"
      }
    },
    {
      "cell_type": "code",
      "source": [
        "query = 'ギターヒーローは誰ですか？'\n",
        "generate = original_llm(query)\n",
        "print('回答:', generate)"
      ],
      "metadata": {
        "id": "sl1fIwCczCzN",
        "colab": {
          "base_uri": "https://localhost:8080/"
        },
        "outputId": "cf2b8411-ddf0-4bc3-9885-3395ba8e3b6e"
      },
      "execution_count": null,
      "outputs": [
        {
          "output_type": "stream",
          "name": "stdout",
          "text": [
            "\u001b[32;1m\u001b[1;3m[llm/start]\u001b[0m \u001b[1m[1:llm:OpenAIChat] Entering LLM run with input:\n",
            "\u001b[0m{\n",
            "  \"prompts\": [\n",
            "    \"ギターヒーローは誰ですか？\"\n",
            "  ]\n",
            "}\n",
            "ギターヒーローは、ゲーム『Guitar Hero』シリーズのプレイヤーキャラクターを指すことが一般的です。ゲーム内では、プレイヤー自身がギターを演奏する「ヒーロー」として扱われます。具体的なキャラクター名はありませんが、プレイヤーが自分自身を表現することができるため、プレイヤーごとに異なる「ギターヒーロー」として楽しむことができます。\u001b[36;1m\u001b[1;3m[llm/end]\u001b[0m \u001b[1m[1:llm:OpenAIChat] [13.64s] Exiting LLM run with output:\n",
            "\u001b[0m{\n",
            "  \"generations\": [\n",
            "    [\n",
            "      {\n",
            "        \"text\": \"ギターヒーローは、ゲーム『Guitar Hero』シリーズのプレイヤーキャラクターを指すことが一般的です。ゲーム内では、プレイヤー自身がギターを演奏する「ヒーロー」として扱われます。具体的なキャラクター名はありませんが、プレイヤーが自分自身を表現することができるため、プレイヤーごとに異なる「ギターヒーロー」として楽しむことができます。\",\n",
            "        \"generation_info\": null\n",
            "      }\n",
            "    ]\n",
            "  ],\n",
            "  \"llm_output\": null,\n",
            "  \"run\": null\n",
            "}\n",
            "回答: ギターヒーローは、ゲーム『Guitar Hero』シリーズのプレイヤーキャラクターを指すことが一般的です。ゲーム内では、プレイヤー自身がギターを演奏する「ヒーロー」として扱われます。具体的なキャラクター名はありませんが、プレイヤーが自分自身を表現することができるため、プレイヤーごとに異なる「ギターヒーロー」として楽しむことができます。\n"
          ]
        }
      ]
    },
    {
      "cell_type": "code",
      "execution_count": null,
      "metadata": {
        "id": "6jWQZgQrwNqx",
        "colab": {
          "base_uri": "https://localhost:8080/"
        },
        "outputId": "a810078b-173d-4356-b939-67cbae084510"
      },
      "outputs": [
        {
          "output_type": "stream",
          "name": "stdout",
          "text": [
            "\u001b[32;1m\u001b[1;3m[chain/start]\u001b[0m \u001b[1m[1:chain:RetrievalQA] Entering Chain run with input:\n",
            "\u001b[0m{\n",
            "  \"query\": \"ギターヒーローは誰ですか？\"\n",
            "}\n",
            "\u001b[32;1m\u001b[1;3m[chain/start]\u001b[0m \u001b[1m[1:chain:RetrievalQA > 3:chain:StuffDocumentsChain] Entering Chain run with input:\n",
            "\u001b[0m[inputs]\n",
            "\u001b[32;1m\u001b[1;3m[chain/start]\u001b[0m \u001b[1m[1:chain:RetrievalQA > 3:chain:StuffDocumentsChain > 4:chain:LLMChain] Entering Chain run with input:\n",
            "\u001b[0m{\n",
            "  \"question\": \"ギターヒーローは誰ですか？\",\n",
            "  \"context\": \"ギターヒーロー\\n後藤ひとりが動画配信の際に用いるハンドルネーム。ひとりは「ギターヒーロー」の名で動画配信して、スゴ腕の女子高生ギタリストとしてカリスマ的な人気を集めている。動画配信は素顔を映さない形で行っており、ひとりがギターヒーローであることはほとんどの人たちが知らない。チャンネル登録者もかなり多いらしく、大槻ヨヨコによれば、ドームを2回満員にするほどにチャンネル登録者がいるという。ただ一方で、ひとりの承認欲求が肥大化した原因でもあり、ギターヒーローとしての活動コメントは、「彼氏がいる」「友達とカラオケ」など捏造がひどい。実はアカウントが家族で共有されているため、ひとりの父にはそれらの虚言癖は最初からバレており、のちにその事実に気づく。また佐藤愛子にひとりがギターヒーローであることを暴露されたことをきっかけに周囲の人間にもそれが知れ渡り、以降は激しく後悔してコメントを自粛している。\\n\\n秀華高校に通う女子。桃色の髪を無造作に伸ばし、いつもジャージを身につけている。自他共に認める引きこもり一歩手前の「陰キャ」で、承認欲求が人一倍強いにもかかわらず、臆病な性格で人と接するのを極度に苦手としている。そのため、すぐに自分の世界に入って落ち込むという情緒不安定さを見せる。押し入れやダンボールに潜り込む癖があり、「完熟マンゴー仮面」を持ち歩いている。運動も勉強も苦手で、特に勉強はまじめに授業を受けているにもかかわらず、生来の要領の悪さから赤点ギリギリ。自分には何の取り柄もないのを痛感していたため、中学の頃に暗い性格の人間がバンドをやって人気者になったインタビューを読んで、ギターを始める。毎日練習したお陰でギターの腕前はプロ級になったが、結局、その腕前を披露する場に恵まれず、友達を作れないまま中学を卒業。現在は「ギターヒーロー」の名で動画配信している。ギタリストを探していた伊地知虹夏に誘われ、「結束バンド」に加入し、バンド活動を始める。バンド内ではギタリスト兼作詞を担当している。山田リョウに「ぼっち」の愛称を付けられて以降は、その愛称で呼ばれる。ギターの腕前はかなりのものだが、他人と合わせるセッションの経験\\n\\nひとりの父 (ひとりのちち)\\n後藤ひとりの父親。本名は不明で、素顔もなぜか毎回明かされていないために不明。若い頃、ギターを弾いていたらしく、ひとりの中学時代、ギターに興味を覚えた娘に自分のギターを貸した。動画配信のアカウントを家族で共有しているため、ひとりが「ギターヒーロー」として人気を集めていることも知っており、ひとりのために広告収入を貯金していた。のちに、そのお金を新しいギターを購入する資金として渡している。変な特技を数多く持っており、隠れ身の術で壁に隠れていたり、完熟マンゴー仮面を凝ったデザインに改造したりしている。後藤ふたりから家族ヒエラルキーの中で最下位に置かれており、なんとかそれを挽回したいと考えている。\\n\\n後藤ひとりは友達を作れない陰キャでいつも一人で過ごしていたが、中学時代にテレビのインタビューを見て、陰キャでもバンドを組んでいれば人気者になれると聞き、ギターの練習を始める。ひとりは毎日コツコツ練習を重ねることでギターの腕前はかなりのものとなっていたが、気がつけば中学は卒業。結局、友達を作るという当初の目標は達成することはできずじまいだった。そして高校に入学したひとりはギター演奏を動画配信し、「ギターヒーロー」としてネットでそこそこの人気を集めていたが、現実では変わらず友達を作れずにいた。ひとりはギターをこれみよがしに持ち、ギタリストだということをアピールするものの効果はなし。黄昏（たそがれ）ていたところ、ギタリストを探していた伊地知虹夏に誘われ、バンド活動をすることとなる。ひとりは虹夏、山田リョウらと共に「結束バンド」として活動を始めるが、友達は欲しいけどコミュ症独りぼっちのひとりは問題行動ばかり起こしていた。結束バンドなのに、結束力ゼロな凸凹バンド活動は幕開けするのだった。そしてそんなひとりに、クラスメイトの喜多郁代が話しかけてきて、彼女が結束バンドの元メンバーだったことを知る。紆余（うよ）曲折の末、郁代は\"\n",
            "}\n",
            "\u001b[32;1m\u001b[1;3m[llm/start]\u001b[0m \u001b[1m[1:chain:RetrievalQA > 3:chain:StuffDocumentsChain > 4:chain:LLMChain > 5:llm:OpenAIChat] Entering LLM run with input:\n",
            "\u001b[0m{\n",
            "  \"prompts\": [\n",
            "    \"Please answer in Japanese. Please make your answer as concise as possible. Answer the following questions as best you can. Answer the Question by referring only to the Context below. If the Context does not contain information that will help answer the question, please say \\\"I don't know\\\". If there are multiple possible answers, please list them.\\n\\nContext:.\\nギターヒーロー\\n後藤ひとりが動画配信の際に用いるハンドルネーム。ひとりは「ギターヒーロー」の名で動画配信して、スゴ腕の女子高生ギタリストとしてカリスマ的な人気を集めている。動画配信は素顔を映さない形で行っており、ひとりがギターヒーローであることはほとんどの人たちが知らない。チャンネル登録者もかなり多いらしく、大槻ヨヨコによれば、ドームを2回満員にするほどにチャンネル登録者がいるという。ただ一方で、ひとりの承認欲求が肥大化した原因でもあり、ギターヒーローとしての活動コメントは、「彼氏がいる」「友達とカラオケ」など捏造がひどい。実はアカウントが家族で共有されているため、ひとりの父にはそれらの虚言癖は最初からバレており、のちにその事実に気づく。また佐藤愛子にひとりがギターヒーローであることを暴露されたことをきっかけに周囲の人間にもそれが知れ渡り、以降は激しく後悔してコメントを自粛している。\\n\\n秀華高校に通う女子。桃色の髪を無造作に伸ばし、いつもジャージを身につけている。自他共に認める引きこもり一歩手前の「陰キャ」で、承認欲求が人一倍強いにもかかわらず、臆病な性格で人と接するのを極度に苦手としている。そのため、すぐに自分の世界に入って落ち込むという情緒不安定さを見せる。押し入れやダンボールに潜り込む癖があり、「完熟マンゴー仮面」を持ち歩いている。運動も勉強も苦手で、特に勉強はまじめに授業を受けているにもかかわらず、生来の要領の悪さから赤点ギリギリ。自分には何の取り柄もないのを痛感していたため、中学の頃に暗い性格の人間がバンドをやって人気者になったインタビューを読んで、ギターを始める。毎日練習したお陰でギターの腕前はプロ級になったが、結局、その腕前を披露する場に恵まれず、友達を作れないまま中学を卒業。現在は「ギターヒーロー」の名で動画配信している。ギタリストを探していた伊地知虹夏に誘われ、「結束バンド」に加入し、バンド活動を始める。バンド内ではギタリスト兼作詞を担当している。山田リョウに「ぼっち」の愛称を付けられて以降は、その愛称で呼ばれる。ギターの腕前はかなりのものだが、他人と合わせるセッションの経験\\n\\nひとりの父 (ひとりのちち)\\n後藤ひとりの父親。本名は不明で、素顔もなぜか毎回明かされていないために不明。若い頃、ギターを弾いていたらしく、ひとりの中学時代、ギターに興味を覚えた娘に自分のギターを貸した。動画配信のアカウントを家族で共有しているため、ひとりが「ギターヒーロー」として人気を集めていることも知っており、ひとりのために広告収入を貯金していた。のちに、そのお金を新しいギターを購入する資金として渡している。変な特技を数多く持っており、隠れ身の術で壁に隠れていたり、完熟マンゴー仮面を凝ったデザインに改造したりしている。後藤ふたりから家族ヒエラルキーの中で最下位に置かれており、なんとかそれを挽回したいと考えている。\\n\\n後藤ひとりは友達を作れない陰キャでいつも一人で過ごしていたが、中学時代にテレビのインタビューを見て、陰キャでもバンドを組んでいれば人気者になれると聞き、ギターの練習を始める。ひとりは毎日コツコツ練習を重ねることでギターの腕前はかなりのものとなっていたが、気がつけば中学は卒業。結局、友達を作るという当初の目標は達成することはできずじまいだった。そして高校に入学したひとりはギター演奏を動画配信し、「ギターヒーロー」としてネットでそこそこの人気を集めていたが、現実では変わらず友達を作れずにいた。ひとりはギターをこれみよがしに持ち、ギタリストだということをアピールするものの効果はなし。黄昏（たそがれ）ていたところ、ギタリストを探していた伊地知虹夏に誘われ、バンド活動をすることとなる。ひとりは虹夏、山田リョウらと共に「結束バンド」として活動を始めるが、友達は欲しいけどコミュ症独りぼっちのひとりは問題行動ばかり起こしていた。結束バンドなのに、結束力ゼロな凸凹バンド活動は幕開けするのだった。そしてそんなひとりに、クラスメイトの喜多郁代が話しかけてきて、彼女が結束バンドの元メンバーだったことを知る。紆余（うよ）曲折の末、郁代は\\n\\nBegin!\\n\\nQuestion:ギターヒーローは誰ですか？\\nAnswer:\"\n",
            "  ]\n",
            "}\n",
            "ギターヒーローは後藤ひとりです。\u001b[36;1m\u001b[1;3m[llm/end]\u001b[0m \u001b[1m[1:chain:RetrievalQA > 3:chain:StuffDocumentsChain > 4:chain:LLMChain > 5:llm:OpenAIChat] [2.21s] Exiting LLM run with output:\n",
            "\u001b[0m{\n",
            "  \"generations\": [\n",
            "    [\n",
            "      {\n",
            "        \"text\": \"ギターヒーローは後藤ひとりです。\",\n",
            "        \"generation_info\": null\n",
            "      }\n",
            "    ]\n",
            "  ],\n",
            "  \"llm_output\": null,\n",
            "  \"run\": null\n",
            "}\n",
            "\u001b[36;1m\u001b[1;3m[chain/end]\u001b[0m \u001b[1m[1:chain:RetrievalQA > 3:chain:StuffDocumentsChain > 4:chain:LLMChain] [2.22s] Exiting Chain run with output:\n",
            "\u001b[0m{\n",
            "  \"text\": \"ギターヒーローは後藤ひとりです。\"\n",
            "}\n",
            "\u001b[36;1m\u001b[1;3m[chain/end]\u001b[0m \u001b[1m[1:chain:RetrievalQA > 3:chain:StuffDocumentsChain] [2.22s] Exiting Chain run with output:\n",
            "\u001b[0m{\n",
            "  \"output_text\": \"ギターヒーローは後藤ひとりです。\"\n",
            "}\n",
            "\u001b[36;1m\u001b[1;3m[chain/end]\u001b[0m \u001b[1m[1:chain:RetrievalQA] [2.47s] Exiting Chain run with output:\n",
            "\u001b[0m[outputs]\n",
            "********** \n",
            "回答: ギターヒーローは後藤ひとりです。\n",
            "********** \n",
            "Source:  ['CDLE_LLM/qa_documents/txt/bocchi.txt']\n"
          ]
        }
      ],
      "source": [
        "query = 'ギターヒーローは誰ですか？'\n",
        "generate = qa_chain(query)\n",
        "print('*'*10, '\\n回答:',    generate['result'])\n",
        "print('*'*10, '\\nSource: ', pick_metadata_source(generate))"
      ]
    },
    {
      "cell_type": "code",
      "source": [],
      "metadata": {
        "id": "mstpXQ4y20RX"
      },
      "execution_count": null,
      "outputs": []
    },
    {
      "cell_type": "code",
      "source": [
        "query = 'コナンはなぜ子どもの姿になったのですか？'\n",
        "generate = original_llm(query)\n",
        "print('回答:', generate)"
      ],
      "metadata": {
        "id": "qLBE-YP420Ml",
        "colab": {
          "base_uri": "https://localhost:8080/"
        },
        "outputId": "40b7d9dd-d576-4394-d7b6-b91134b32c7a"
      },
      "execution_count": null,
      "outputs": [
        {
          "output_type": "stream",
          "name": "stdout",
          "text": [
            "\u001b[32;1m\u001b[1;3m[llm/start]\u001b[0m \u001b[1m[1:llm:OpenAIChat] Entering LLM run with input:\n",
            "\u001b[0m{\n",
            "  \"prompts\": [\n",
            "    \"コナンはなぜ子どもの姿になったのですか？\"\n",
            "  ]\n",
            "}\n",
            "コナンは、組織と呼ばれる秘密結社によって毒薬を使われてしまい、成人の姿から子どもの姿に変えられてしまいました。この変身は、彼を殺すために行われたものであり、組織のメンバーに見つかることを避けるために、彼は子どもの姿で生活するようになりました。\u001b[36;1m\u001b[1;3m[llm/end]\u001b[0m \u001b[1m[1:llm:OpenAIChat] [10.33s] Exiting LLM run with output:\n",
            "\u001b[0m{\n",
            "  \"generations\": [\n",
            "    [\n",
            "      {\n",
            "        \"text\": \"コナンは、組織と呼ばれる秘密結社によって毒薬を使われてしまい、成人の姿から子どもの姿に変えられてしまいました。この変身は、彼を殺すために行われたものであり、組織のメンバーに見つかることを避けるために、彼は子どもの姿で生活するようになりました。\",\n",
            "        \"generation_info\": null\n",
            "      }\n",
            "    ]\n",
            "  ],\n",
            "  \"llm_output\": null,\n",
            "  \"run\": null\n",
            "}\n",
            "回答: コナンは、組織と呼ばれる秘密結社によって毒薬を使われてしまい、成人の姿から子どもの姿に変えられてしまいました。この変身は、彼を殺すために行われたものであり、組織のメンバーに見つかることを避けるために、彼は子どもの姿で生活するようになりました。\n"
          ]
        }
      ]
    },
    {
      "cell_type": "code",
      "execution_count": null,
      "metadata": {
        "id": "u5DmmaQf3ORC",
        "colab": {
          "base_uri": "https://localhost:8080/"
        },
        "outputId": "577d69cb-28f2-4009-a9ad-69359490dcef"
      },
      "outputs": [
        {
          "output_type": "stream",
          "name": "stdout",
          "text": [
            "\u001b[32;1m\u001b[1;3m[chain/start]\u001b[0m \u001b[1m[1:chain:RetrievalQA] Entering Chain run with input:\n",
            "\u001b[0m{\n",
            "  \"query\": \"コナンはなぜ子どもの姿になったのですか？\"\n",
            "}\n",
            "\u001b[32;1m\u001b[1;3m[chain/start]\u001b[0m \u001b[1m[1:chain:RetrievalQA > 3:chain:StuffDocumentsChain] Entering Chain run with input:\n",
            "\u001b[0m[inputs]\n",
            "\u001b[32;1m\u001b[1;3m[chain/start]\u001b[0m \u001b[1m[1:chain:RetrievalQA > 3:chain:StuffDocumentsChain > 4:chain:LLMChain] Entering Chain run with input:\n",
            "\u001b[0m{\n",
            "  \"question\": \"コナンはなぜ子どもの姿になったのですか？\",\n",
            "  \"context\": \"名探偵コナン\\n\\nテレビアニメをはじめ、多数のメディア化がされている青山剛昌の代表作。天才高校生探偵工藤新一は、謎の集団黒ずくめの組織に毒薬を飲まされてしまい、体が縮んで小学生の姿になってしまう。新一は、正体を隠すために江戸川コナンと名乗り、幼馴染・毛利蘭の父が営む毛利探偵事務所に身を寄せたコナンは、元の体に戻るために数々の難事件を解決しながら、黒ずくめの組織の謎に迫っていく。小学館「週刊少年サンデー」1994年5号から連載。第46回「小学館漫画賞」少年部門受賞。\\n\\n正式名称\\n名探偵コナン\\n\\nふりがな\\nめいたんていこなん\\n\\n作者\\n青山 剛昌\\n\\nジャンル\\n推理・ミステリー\\n\\nレーベル\\n少年サンデーコミックス(小学館)\\n\\n巻数\\n既刊103巻\\n\\nあらすじ\\n高校生探偵として有名な工藤新一は、ある日黒ずくめの組織による怪しげな取引を目撃したため、口封じとして毒薬を飲まされてしまう。新一は一命を取り留めるも、体が縮んで小学生の姿になってしまった。自分の生存が知られたら周囲の人間にも危険が及ぶと考えた新一は、眼鏡で変装し江戸川コナンと偽名を使って正体を隠す。そして黒ずくめの組織の情報を集める為に、幼なじみの毛利蘭の父親、毛利小五郎が営む毛利探偵事務所に転がり込んだ。コナンはより多くの情報を集めるために毛利探偵事務所に寄越された依頼や、行く先で出くわした事件などを小五郎を身代わりにして解決していき、彼を名探偵へと仕立てあげていく。\\n\\n事件を推理し解決に導くのはコナンだが、一見ただの小学生で大人たちに相手にされないということもあり、麻酔銃で眠らされた蘭の父・毛利小五郎がコナンの身代わりとして容疑者たちの面前で推理を行うことがほとんどである。そのため、名探偵としての名声は小五郎が一身に受けている。だが、小五郎不在のときなどは、蘭の友人である鈴木園子や、コナンの正体を知る阿笠博士が身代わりとなり、探偵役となるエピソードも存在する。また、コナンの正体を知る数少ない人物であり、ライバルの高校生探偵・服部平次と協力し推理していくこともある。\\n\\nそのほかとしては、コナンはあくまでヒントを与える立場にとどまり、小五郎本人や警察関係者たちが事件を解決に導く場合がある。さらに、コナンとその小学校での友人たちである吉田歩美・円谷光彦・小島元太からなる「少年探偵団」(後に灰原哀も加入)が中心となるエピソードもある。\\n\\n工藤 新一 (くどう しんいち)\\n数々の難事件を解決し、日本警察の救世主とまで称される天才高校生探偵。運動神経にも秀で、趣味のサッカーは全国クラスの実力を有している。幼なじみの毛利蘭と遊園地に行った帰りに、黒ずくめの組織による怪しげな取引を発見、監視していたところジンに見つかり、毒薬APTX4869を飲まされて小学生の姿になってしまう。 黒ずくめの組織に生存を知られると、自分の命どころか周囲の人間も危ないとの阿笠博士の助言により、眼鏡で変装して江戸川コナンと偽名を使っている。その後は黒ずくめの組織の情報を集めるために、蘭の父親毛利小五郎が経営する毛利探偵事務所に転がりこみ、数々の難事件を解決していく。 蘭に好意を抱き、常に心配をしているが、中々素直になれずにいる。\\n\\n毛利 蘭 (もうり らん) 主人公\\nキャラクター紹介工藤新一の幼なじみ。女子高生。心優しくしっかりものだが、新一には素直になれないところがある。阿笠博士の親戚と紹介された江戸川コナンのことを受け入れ、弟のように可愛がっている。勘が鋭く、... 関連ページ：毛利 蘭\"\n",
            "}\n",
            "\u001b[32;1m\u001b[1;3m[llm/start]\u001b[0m \u001b[1m[1:chain:RetrievalQA > 3:chain:StuffDocumentsChain > 4:chain:LLMChain > 5:llm:OpenAIChat] Entering LLM run with input:\n",
            "\u001b[0m{\n",
            "  \"prompts\": [\n",
            "    \"Please answer in Japanese. Please make your answer as concise as possible. Answer the following questions as best you can. Answer the Question by referring only to the Context below. If the Context does not contain information that will help answer the question, please say \\\"I don't know\\\". If there are multiple possible answers, please list them.\\n\\nContext:.\\n名探偵コナン\\n\\nテレビアニメをはじめ、多数のメディア化がされている青山剛昌の代表作。天才高校生探偵工藤新一は、謎の集団黒ずくめの組織に毒薬を飲まされてしまい、体が縮んで小学生の姿になってしまう。新一は、正体を隠すために江戸川コナンと名乗り、幼馴染・毛利蘭の父が営む毛利探偵事務所に身を寄せたコナンは、元の体に戻るために数々の難事件を解決しながら、黒ずくめの組織の謎に迫っていく。小学館「週刊少年サンデー」1994年5号から連載。第46回「小学館漫画賞」少年部門受賞。\\n\\n正式名称\\n名探偵コナン\\n\\nふりがな\\nめいたんていこなん\\n\\n作者\\n青山 剛昌\\n\\nジャンル\\n推理・ミステリー\\n\\nレーベル\\n少年サンデーコミックス(小学館)\\n\\n巻数\\n既刊103巻\\n\\nあらすじ\\n高校生探偵として有名な工藤新一は、ある日黒ずくめの組織による怪しげな取引を目撃したため、口封じとして毒薬を飲まされてしまう。新一は一命を取り留めるも、体が縮んで小学生の姿になってしまった。自分の生存が知られたら周囲の人間にも危険が及ぶと考えた新一は、眼鏡で変装し江戸川コナンと偽名を使って正体を隠す。そして黒ずくめの組織の情報を集める為に、幼なじみの毛利蘭の父親、毛利小五郎が営む毛利探偵事務所に転がり込んだ。コナンはより多くの情報を集めるために毛利探偵事務所に寄越された依頼や、行く先で出くわした事件などを小五郎を身代わりにして解決していき、彼を名探偵へと仕立てあげていく。\\n\\n事件を推理し解決に導くのはコナンだが、一見ただの小学生で大人たちに相手にされないということもあり、麻酔銃で眠らされた蘭の父・毛利小五郎がコナンの身代わりとして容疑者たちの面前で推理を行うことがほとんどである。そのため、名探偵としての名声は小五郎が一身に受けている。だが、小五郎不在のときなどは、蘭の友人である鈴木園子や、コナンの正体を知る阿笠博士が身代わりとなり、探偵役となるエピソードも存在する。また、コナンの正体を知る数少ない人物であり、ライバルの高校生探偵・服部平次と協力し推理していくこともある。\\n\\nそのほかとしては、コナンはあくまでヒントを与える立場にとどまり、小五郎本人や警察関係者たちが事件を解決に導く場合がある。さらに、コナンとその小学校での友人たちである吉田歩美・円谷光彦・小島元太からなる「少年探偵団」(後に灰原哀も加入)が中心となるエピソードもある。\\n\\n工藤 新一 (くどう しんいち)\\n数々の難事件を解決し、日本警察の救世主とまで称される天才高校生探偵。運動神経にも秀で、趣味のサッカーは全国クラスの実力を有している。幼なじみの毛利蘭と遊園地に行った帰りに、黒ずくめの組織による怪しげな取引を発見、監視していたところジンに見つかり、毒薬APTX4869を飲まされて小学生の姿になってしまう。 黒ずくめの組織に生存を知られると、自分の命どころか周囲の人間も危ないとの阿笠博士の助言により、眼鏡で変装して江戸川コナンと偽名を使っている。その後は黒ずくめの組織の情報を集めるために、蘭の父親毛利小五郎が経営する毛利探偵事務所に転がりこみ、数々の難事件を解決していく。 蘭に好意を抱き、常に心配をしているが、中々素直になれずにいる。\\n\\n毛利 蘭 (もうり らん) 主人公\\nキャラクター紹介工藤新一の幼なじみ。女子高生。心優しくしっかりものだが、新一には素直になれないところがある。阿笠博士の親戚と紹介された江戸川コナンのことを受け入れ、弟のように可愛がっている。勘が鋭く、... 関連ページ：毛利 蘭\\n\\nBegin!\\n\\nQuestion:コナンはなぜ子どもの姿になったのですか？\\nAnswer:\"\n",
            "  ]\n",
            "}\n",
            "黒ずくめの組織に毒薬を飲まされたため、体が縮んで小学生の姿になった。\u001b[36;1m\u001b[1;3m[llm/end]\u001b[0m \u001b[1m[1:chain:RetrievalQA > 3:chain:StuffDocumentsChain > 4:chain:LLMChain > 5:llm:OpenAIChat] [4.13s] Exiting LLM run with output:\n",
            "\u001b[0m{\n",
            "  \"generations\": [\n",
            "    [\n",
            "      {\n",
            "        \"text\": \"黒ずくめの組織に毒薬を飲まされたため、体が縮んで小学生の姿になった。\",\n",
            "        \"generation_info\": null\n",
            "      }\n",
            "    ]\n",
            "  ],\n",
            "  \"llm_output\": null,\n",
            "  \"run\": null\n",
            "}\n",
            "\u001b[36;1m\u001b[1;3m[chain/end]\u001b[0m \u001b[1m[1:chain:RetrievalQA > 3:chain:StuffDocumentsChain > 4:chain:LLMChain] [4.13s] Exiting Chain run with output:\n",
            "\u001b[0m{\n",
            "  \"text\": \"黒ずくめの組織に毒薬を飲まされたため、体が縮んで小学生の姿になった。\"\n",
            "}\n",
            "\u001b[36;1m\u001b[1;3m[chain/end]\u001b[0m \u001b[1m[1:chain:RetrievalQA > 3:chain:StuffDocumentsChain] [4.13s] Exiting Chain run with output:\n",
            "\u001b[0m{\n",
            "  \"output_text\": \"黒ずくめの組織に毒薬を飲まされたため、体が縮んで小学生の姿になった。\"\n",
            "}\n",
            "\u001b[36;1m\u001b[1;3m[chain/end]\u001b[0m \u001b[1m[1:chain:RetrievalQA] [4.40s] Exiting Chain run with output:\n",
            "\u001b[0m[outputs]\n",
            "********** \n",
            "回答: 黒ずくめの組織に毒薬を飲まされたため、体が縮んで小学生の姿になった。\n",
            "********** \n",
            "Source:  ['CDLE_LLM/qa_documents/txt/conan.txt']\n"
          ]
        }
      ],
      "source": [
        "query = 'コナンはなぜ子どもの姿になったのですか？'\n",
        "generate = qa_chain(query)\n",
        "print('*'*10, '\\n回答:',    generate['result'])\n",
        "print('*'*10, '\\nSource: ', pick_metadata_source(generate))"
      ]
    },
    {
      "cell_type": "code",
      "source": [],
      "metadata": {
        "id": "zKN8cqpA4Gld"
      },
      "execution_count": null,
      "outputs": []
    },
    {
      "cell_type": "code",
      "source": [
        "query = '金田一とはどのような人物ですか？'\n",
        "generate = original_llm(query)\n",
        "print('回答:', generate)"
      ],
      "metadata": {
        "colab": {
          "base_uri": "https://localhost:8080/"
        },
        "id": "h30D5SQ14Gis",
        "outputId": "ca8976ca-7da1-4fd9-afbc-9d748b44b754"
      },
      "execution_count": null,
      "outputs": [
        {
          "output_type": "stream",
          "name": "stdout",
          "text": [
            "\u001b[32;1m\u001b[1;3m[llm/start]\u001b[0m \u001b[1m[1:llm:OpenAIChat] Entering LLM run with input:\n",
            "\u001b[0m{\n",
            "  \"prompts\": [\n",
            "    \"金田一とはどのような人物ですか？\"\n",
            "  ]\n",
            "}\n",
            "金田一は、日本の推理小説家横溝正史の作品に登場する架空の探偵です。彼は名探偵として知られており、鋭い観察力と推理力を持ち、難解な事件を解決する能力を持っています。金髪で長身の容姿であり、頭脳明晰で冷静沈着な性格です。彼は多くの人々から信頼され、様々な難事件を解決してきました。金田一シリーズは、日本の推理小説の代表的な作品として知られています。\u001b[36;1m\u001b[1;3m[llm/end]\u001b[0m \u001b[1m[1:llm:OpenAIChat] [15.15s] Exiting LLM run with output:\n",
            "\u001b[0m{\n",
            "  \"generations\": [\n",
            "    [\n",
            "      {\n",
            "        \"text\": \"金田一は、日本の推理小説家横溝正史の作品に登場する架空の探偵です。彼は名探偵として知られており、鋭い観察力と推理力を持ち、難解な事件を解決する能力を持っています。金髪で長身の容姿であり、頭脳明晰で冷静沈着な性格です。彼は多くの人々から信頼され、様々な難事件を解決してきました。金田一シリーズは、日本の推理小説の代表的な作品として知られています。\",\n",
            "        \"generation_info\": null\n",
            "      }\n",
            "    ]\n",
            "  ],\n",
            "  \"llm_output\": null,\n",
            "  \"run\": null\n",
            "}\n",
            "回答: 金田一は、日本の推理小説家横溝正史の作品に登場する架空の探偵です。彼は名探偵として知られており、鋭い観察力と推理力を持ち、難解な事件を解決する能力を持っています。金髪で長身の容姿であり、頭脳明晰で冷静沈着な性格です。彼は多くの人々から信頼され、様々な難事件を解決してきました。金田一シリーズは、日本の推理小説の代表的な作品として知られています。\n"
          ]
        }
      ]
    },
    {
      "cell_type": "code",
      "execution_count": null,
      "metadata": {
        "id": "lH76QqYQPMe0",
        "colab": {
          "base_uri": "https://localhost:8080/"
        },
        "outputId": "ff7f5c02-91cb-40a4-c231-7478a26773b9"
      },
      "outputs": [
        {
          "output_type": "stream",
          "name": "stdout",
          "text": [
            "\u001b[32;1m\u001b[1;3m[chain/start]\u001b[0m \u001b[1m[1:chain:RetrievalQA] Entering Chain run with input:\n",
            "\u001b[0m{\n",
            "  \"query\": \"金田一とはどのような人物ですか？\"\n",
            "}\n",
            "\u001b[32;1m\u001b[1;3m[chain/start]\u001b[0m \u001b[1m[1:chain:RetrievalQA > 3:chain:StuffDocumentsChain] Entering Chain run with input:\n",
            "\u001b[0m[inputs]\n",
            "\u001b[32;1m\u001b[1;3m[chain/start]\u001b[0m \u001b[1m[1:chain:RetrievalQA > 3:chain:StuffDocumentsChain > 4:chain:LLMChain] Entering Chain run with input:\n",
            "\u001b[0m{\n",
            "  \"question\": \"金田一とはどのような人物ですか？\",\n",
            "  \"context\": \"⾦⽥⼀少年の事件簿\\n無料で読む・試し読み\\n後に⻑期シリーズ化される『⾦⽥⼀少年の事件簿』シリーズ1作⽬。さとうふみやが作画、case2巻\\nまでは⾦成陽三郎が原作、それ以降は天樹征丸（樹林伸）が原作・原案を務める。⾼校⽣の⾦⽥⼀\\n⼀が遭遇する難事件を、幼馴染の七瀬美雪や、剣持勇警部、明智健悟警視などの協⼒の元、名探偵\\nと呼ばれた祖⽗譲りの推理⼒で解いていくミステリ漫画。作品は、犯⼈当てに読者参加が可能な、\\nフェアなミステリを意識して作られており、事件の解決編前には、ミステリ⽤語で⾔う所のQ .E.D.\\nポイントとして、「謎は解けた!」などのハジメの台詞が⼊り、証拠が出揃った事が明⾔される。作\\n品を注意深く読めば、その時点まで描かれた事から、事件の真相を、読者⾃⾝が推理できる仕掛け\\nとなっている。⻑編では、クローズド・サークル状況での連続殺⼈物である事が多い。証拠と論理\\nによる犯⼈の絞り込みが、物語のクライマックスであるが、その過程、動機、⽅法、関係者間のミ\\nッシング・リンクなどの⽅に話の焦点が置かれる事もある。犯⼈には、「怪⼈名」という⼆つ名が\\n\\nさとうふみやの『⾦⽥⼀少年の事件簿』のスピンオフ作品。原作で事件を解決したあと、⼀泊⼆⽇\\n旅⾏に出掛けた先で、⾦⽥⼀⼀と七瀬美雪が新たな騒動に巻き込まれる姿を⼀話完結で描いたコメ\\nディ作品。「マンガボック... 関連ページ︓ ⾦⽥⼀少年の⼀泊⼆⽇⼩旅⾏\\n⾦⽥⼀少年の事件簿外伝 犯⼈たちの事件簿\\n(きんだいちしょうねんのじけんぼがいでん はんにんたちのじけんぼ)\\nさとうふみやの『⾦⽥⼀少年の事件簿』で起こったさまざまな事件を、それぞれの犯⼈の視点から\\n描いたスピンオフ作品。異なる動機とトリックを持ちながら、それらすべてを⾦⽥⼀⼀に⾒抜かれ\\nてしまった犯⼈達の物語が... 関連ページ︓ ⾦⽥⼀少年の事件簿外伝 犯⼈たちの事件簿\\n明智少年の華麗なる事件簿\\n(あけちしょうねんのかれいなるじけんぼ)\\n同著者の代表作である『⾦⽥⼀少年の事件簿』に登場する警視庁の警視・明智健悟を主⼈公に据え\\nて描かれたオムニバス形式の作品。健悟が⾼校時代に解決した3つの難事件を収録している。「週刊\\n少年マガジン」誌上にて... 関連ページ︓ 明智少年の華麗なる事件簿\\n明智警視の優雅なる事件簿\\n(あけちけいしのゆうがなるじけんぼ)\\n\\n続編\\n⾦⽥⼀少年の事件簿R\\n(きんだいちしょうねんのじけんぼりたーんず)\\n『⾦⽥⼀少年の事件簿』の続編。名探偵⾦⽥⼀耕助を祖⽗に持つ⾼校2年⽣の少年、⾦⽥⼀⼀が、⼤\\nがかりな復讐殺⼈のトリックを次々と暴いていくミステリー漫画。複数の事件で宿敵、⾼遠遙⼀の\\n存在が背後に浮かび上が... 関連ページ︓ ⾦⽥⼀少年の事件簿R\\n⾦⽥⼀37歳の事件簿\\n(きんだいちさんじゅうななさいのじけんぼ)\\nさとうふみやの『⾦⽥⼀少年の事件簿』の続編。前作から20年が経過して社会⼈となった37歳の⾦\\n⽥⼀⼀が、再びさまざまな怪事件に巻き込まれ、その謎に挑む姿を描くミステリー。前作の登場⼈\\n物も、時間の経過によ... 関連ページ︓ ⾦⽥⼀37歳の事件簿\\n⾦⽥⼀少年の事件簿30th\\n(きんだいちしょうねんのじけんぼ さーてぃーす)\\nミステリー漫画や推理漫画の⾦字塔として知られる、さとうふみやの代表作である「⾦⽥⼀少年の\\n事件簿」シリーズの連載30周年を記念した作品。過去の「⾦⽥⼀少年の事件簿」シリーズと同様\\nに、多数のミステリー作品... 関連ページ︓ ⾦⽥⼀少年の事件簿30th\\n関連\\n⾦⽥⼀少年の⼀泊⼆⽇⼩旅⾏\\n\\n気配を消して他⼈に忍び寄るなど、少々不気味な奇⾏が⽬⽴つ。 「異⼈館ホテル殺⼈事件」で、犯\\n⼈の仕掛けたトリックに気が付いてしまい、⼝封じの為に殺害される。その後、同ポジションの弟\\nが登場したため、回想などでは佐⽊1号と呼ばれる。ハジメの夢に幽霊姿で登場し、⾝の危険などの\\n警告を暗黙的に伝える事もある。⾎液型AB型。\\n佐⽊ ⻯⼆\\n(さき りゅうじ)\\n私⽴不動中学3年⽣。佐⽊⻯太の弟。佐⽊⻯太の死後、同じポジションである記録係を兼ねた、余り\\n特殊能⼒を持たない読者⽬線に近い存在の⼈材として登場した。容姿も⼤体同じだが、物静かだっ\\nた兄と⽐べると単純で明るい。年相応にスケベで、⾦⽥⼀⼀と悪乗りする事もある。ビデオカメラ\\nを愛し、8mmカメラマニアに、カメラを捨てられた時は激怒した。 勝⼿に「⾦⽥⼀はじめ探偵事\\n務所」のWEBページを作成し、依頼を受け始めた事もあった。⾎液型AB型。\\n⾦⽥⼀ ⼆三\\n(きんだいち ふみ)\\n⾦⽥⼀⼀の⺟⽅の従妹。9歳で⼩学3年⽣。髪型は上結びのツインテール。顔つきは、ハジメに良く\\n似ている。家業の⼿伝いをしていた為か、年の割にはしっかりしている。外⾯は極めて良いが、本\"\n",
            "}\n",
            "\u001b[32;1m\u001b[1;3m[llm/start]\u001b[0m \u001b[1m[1:chain:RetrievalQA > 3:chain:StuffDocumentsChain > 4:chain:LLMChain > 5:llm:OpenAIChat] Entering LLM run with input:\n",
            "\u001b[0m{\n",
            "  \"prompts\": [\n",
            "    \"Please answer in Japanese. Please make your answer as concise as possible. Answer the following questions as best you can. Answer the Question by referring only to the Context below. If the Context does not contain information that will help answer the question, please say \\\"I don't know\\\". If there are multiple possible answers, please list them.\\n\\nContext:.\\n⾦⽥⼀少年の事件簿\\n無料で読む・試し読み\\n後に⻑期シリーズ化される『⾦⽥⼀少年の事件簿』シリーズ1作⽬。さとうふみやが作画、case2巻\\nまでは⾦成陽三郎が原作、それ以降は天樹征丸（樹林伸）が原作・原案を務める。⾼校⽣の⾦⽥⼀\\n⼀が遭遇する難事件を、幼馴染の七瀬美雪や、剣持勇警部、明智健悟警視などの協⼒の元、名探偵\\nと呼ばれた祖⽗譲りの推理⼒で解いていくミステリ漫画。作品は、犯⼈当てに読者参加が可能な、\\nフェアなミステリを意識して作られており、事件の解決編前には、ミステリ⽤語で⾔う所のQ .E.D.\\nポイントとして、「謎は解けた!」などのハジメの台詞が⼊り、証拠が出揃った事が明⾔される。作\\n品を注意深く読めば、その時点まで描かれた事から、事件の真相を、読者⾃⾝が推理できる仕掛け\\nとなっている。⻑編では、クローズド・サークル状況での連続殺⼈物である事が多い。証拠と論理\\nによる犯⼈の絞り込みが、物語のクライマックスであるが、その過程、動機、⽅法、関係者間のミ\\nッシング・リンクなどの⽅に話の焦点が置かれる事もある。犯⼈には、「怪⼈名」という⼆つ名が\\n\\nさとうふみやの『⾦⽥⼀少年の事件簿』のスピンオフ作品。原作で事件を解決したあと、⼀泊⼆⽇\\n旅⾏に出掛けた先で、⾦⽥⼀⼀と七瀬美雪が新たな騒動に巻き込まれる姿を⼀話完結で描いたコメ\\nディ作品。「マンガボック... 関連ページ︓ ⾦⽥⼀少年の⼀泊⼆⽇⼩旅⾏\\n⾦⽥⼀少年の事件簿外伝 犯⼈たちの事件簿\\n(きんだいちしょうねんのじけんぼがいでん はんにんたちのじけんぼ)\\nさとうふみやの『⾦⽥⼀少年の事件簿』で起こったさまざまな事件を、それぞれの犯⼈の視点から\\n描いたスピンオフ作品。異なる動機とトリックを持ちながら、それらすべてを⾦⽥⼀⼀に⾒抜かれ\\nてしまった犯⼈達の物語が... 関連ページ︓ ⾦⽥⼀少年の事件簿外伝 犯⼈たちの事件簿\\n明智少年の華麗なる事件簿\\n(あけちしょうねんのかれいなるじけんぼ)\\n同著者の代表作である『⾦⽥⼀少年の事件簿』に登場する警視庁の警視・明智健悟を主⼈公に据え\\nて描かれたオムニバス形式の作品。健悟が⾼校時代に解決した3つの難事件を収録している。「週刊\\n少年マガジン」誌上にて... 関連ページ︓ 明智少年の華麗なる事件簿\\n明智警視の優雅なる事件簿\\n(あけちけいしのゆうがなるじけんぼ)\\n\\n続編\\n⾦⽥⼀少年の事件簿R\\n(きんだいちしょうねんのじけんぼりたーんず)\\n『⾦⽥⼀少年の事件簿』の続編。名探偵⾦⽥⼀耕助を祖⽗に持つ⾼校2年⽣の少年、⾦⽥⼀⼀が、⼤\\nがかりな復讐殺⼈のトリックを次々と暴いていくミステリー漫画。複数の事件で宿敵、⾼遠遙⼀の\\n存在が背後に浮かび上が... 関連ページ︓ ⾦⽥⼀少年の事件簿R\\n⾦⽥⼀37歳の事件簿\\n(きんだいちさんじゅうななさいのじけんぼ)\\nさとうふみやの『⾦⽥⼀少年の事件簿』の続編。前作から20年が経過して社会⼈となった37歳の⾦\\n⽥⼀⼀が、再びさまざまな怪事件に巻き込まれ、その謎に挑む姿を描くミステリー。前作の登場⼈\\n物も、時間の経過によ... 関連ページ︓ ⾦⽥⼀37歳の事件簿\\n⾦⽥⼀少年の事件簿30th\\n(きんだいちしょうねんのじけんぼ さーてぃーす)\\nミステリー漫画や推理漫画の⾦字塔として知られる、さとうふみやの代表作である「⾦⽥⼀少年の\\n事件簿」シリーズの連載30周年を記念した作品。過去の「⾦⽥⼀少年の事件簿」シリーズと同様\\nに、多数のミステリー作品... 関連ページ︓ ⾦⽥⼀少年の事件簿30th\\n関連\\n⾦⽥⼀少年の⼀泊⼆⽇⼩旅⾏\\n\\n気配を消して他⼈に忍び寄るなど、少々不気味な奇⾏が⽬⽴つ。 「異⼈館ホテル殺⼈事件」で、犯\\n⼈の仕掛けたトリックに気が付いてしまい、⼝封じの為に殺害される。その後、同ポジションの弟\\nが登場したため、回想などでは佐⽊1号と呼ばれる。ハジメの夢に幽霊姿で登場し、⾝の危険などの\\n警告を暗黙的に伝える事もある。⾎液型AB型。\\n佐⽊ ⻯⼆\\n(さき りゅうじ)\\n私⽴不動中学3年⽣。佐⽊⻯太の弟。佐⽊⻯太の死後、同じポジションである記録係を兼ねた、余り\\n特殊能⼒を持たない読者⽬線に近い存在の⼈材として登場した。容姿も⼤体同じだが、物静かだっ\\nた兄と⽐べると単純で明るい。年相応にスケベで、⾦⽥⼀⼀と悪乗りする事もある。ビデオカメラ\\nを愛し、8mmカメラマニアに、カメラを捨てられた時は激怒した。 勝⼿に「⾦⽥⼀はじめ探偵事\\n務所」のWEBページを作成し、依頼を受け始めた事もあった。⾎液型AB型。\\n⾦⽥⼀ ⼆三\\n(きんだいち ふみ)\\n⾦⽥⼀⼀の⺟⽅の従妹。9歳で⼩学3年⽣。髪型は上結びのツインテール。顔つきは、ハジメに良く\\n似ている。家業の⼿伝いをしていた為か、年の割にはしっかりしている。外⾯は極めて良いが、本\\n\\nBegin!\\n\\nQuestion:金田一とはどのような人物ですか？\\nAnswer:\"\n",
            "  ]\n",
            "}\n",
            "金田一は高校生の名探偵で、幼馴染や警察官たちと協力して難事件を解決する能力を持っています。\u001b[36;1m\u001b[1;3m[llm/end]\u001b[0m \u001b[1m[1:chain:RetrievalQA > 3:chain:StuffDocumentsChain > 4:chain:LLMChain > 5:llm:OpenAIChat] [4.73s] Exiting LLM run with output:\n",
            "\u001b[0m{\n",
            "  \"generations\": [\n",
            "    [\n",
            "      {\n",
            "        \"text\": \"金田一は高校生の名探偵で、幼馴染や警察官たちと協力して難事件を解決する能力を持っています。\",\n",
            "        \"generation_info\": null\n",
            "      }\n",
            "    ]\n",
            "  ],\n",
            "  \"llm_output\": null,\n",
            "  \"run\": null\n",
            "}\n",
            "\u001b[36;1m\u001b[1;3m[chain/end]\u001b[0m \u001b[1m[1:chain:RetrievalQA > 3:chain:StuffDocumentsChain > 4:chain:LLMChain] [4.73s] Exiting Chain run with output:\n",
            "\u001b[0m{\n",
            "  \"text\": \"金田一は高校生の名探偵で、幼馴染や警察官たちと協力して難事件を解決する能力を持っています。\"\n",
            "}\n",
            "\u001b[36;1m\u001b[1;3m[chain/end]\u001b[0m \u001b[1m[1:chain:RetrievalQA > 3:chain:StuffDocumentsChain] [4.73s] Exiting Chain run with output:\n",
            "\u001b[0m{\n",
            "  \"output_text\": \"金田一は高校生の名探偵で、幼馴染や警察官たちと協力して難事件を解決する能力を持っています。\"\n",
            "}\n",
            "\u001b[36;1m\u001b[1;3m[chain/end]\u001b[0m \u001b[1m[1:chain:RetrievalQA] [5.07s] Exiting Chain run with output:\n",
            "\u001b[0m[outputs]\n",
            "********** \n",
            "回答: 金田一は高校生の名探偵で、幼馴染や警察官たちと協力して難事件を解決する能力を持っています。\n",
            "********** \n",
            "Source:  ['CDLE_LLM/qa_documents/pdf/kindaichi.pdf']\n"
          ]
        }
      ],
      "source": [
        "query = '金田一とはどのような人物ですか？'\n",
        "generate = qa_chain(query)\n",
        "print('*'*10, '\\n回答:',    generate['result'])\n",
        "print('*'*10, '\\nSource: ', pick_metadata_source(generate))"
      ]
    },
    {
      "cell_type": "code",
      "source": [],
      "metadata": {
        "id": "R0J0fG2MTKI9"
      },
      "execution_count": null,
      "outputs": []
    },
    {
      "cell_type": "markdown",
      "source": [
        "# end\n",
        "\n",
        "---"
      ],
      "metadata": {
        "id": "sBmPNpqFbF9Q"
      }
    }
  ],
  "metadata": {
    "colab": {
      "provenance": [],
      "collapsed_sections": [
        "Sk2vN7vLKqm0",
        "PDPUoRZrKvOV",
        "eupUCdtWKzgJ",
        "jx3Ia0r_K14h",
        "CFlEn_LRK6Wv",
        "u3u8GyeEBHO2",
        "EIkCELVtNHoG",
        "H4kFIzOCNVbo",
        "fb5pk-XwNPz4",
        "LTvDLYHENdWV",
        "LtJ2_8gONm2C",
        "56cnAOE3oAti",
        "RSwGvW89NqDI",
        "6yFL1JEjNtK4"
      ]
    },
    "kernelspec": {
      "display_name": "Python 3",
      "name": "python3"
    },
    "language_info": {
      "name": "python"
    }
  },
  "nbformat": 4,
  "nbformat_minor": 0
}